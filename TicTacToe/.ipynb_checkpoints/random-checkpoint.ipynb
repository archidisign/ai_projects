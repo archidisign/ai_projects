{
 "cells": [
  {
   "cell_type": "code",
   "execution_count": 1,
   "metadata": {},
   "outputs": [],
   "source": [
    "import random"
   ]
  },
  {
   "cell_type": "code",
   "execution_count": 2,
   "metadata": {},
   "outputs": [],
   "source": [
    "board = [i for i in range(1, 10)]"
   ]
  },
  {
   "cell_type": "code",
   "execution_count": 3,
   "metadata": {},
   "outputs": [],
   "source": [
    "def show():\n",
    "    print(board[0],'|',board[1],'|',board[2])\n",
    "    print('---------')\n",
    "    print(board[3],'|',board[4],'|',board[5])\n",
    "    print('---------')\n",
    "    print(board[6],'|',board[7],'|',board[8])"
   ]
  },
  {
   "cell_type": "code",
   "execution_count": 4,
   "metadata": {},
   "outputs": [],
   "source": [
    "def check(char, pos):\n",
    "    if pos == 4:\n",
    "        if (board[0] == board[8] and char == board[0]) or \\\n",
    "            (board[2] == board[6] and char == board[2]) or \\\n",
    "            (board[3] == board[5] and char == board[3]) or \\\n",
    "            (board[1] == board[7] and char == board[1]):\n",
    "            return True\n",
    "    elif pos in [2, 6]:\n",
    "        if (board[2]==board[4] and board[6]==board[4]):\n",
    "            return True\n",
    "    elif pos in [0, 8]:\n",
    "        if (board[0]==board[4] and board[8]==board[4]):\n",
    "            return True\n",
    "    if pos in [0, 1, 2]:\n",
    "        if (board[pos+3] == char and board[pos+6] == char) or (board[0]==board[1] and board[0]==board[2]):\n",
    "            return True\n",
    "    if pos in [3, 4, 5]:\n",
    "        if (board[pos-3] == char and board[pos+3] == char) or (board[3]==board[4] and board[3]==board[5]):\n",
    "            return True\n",
    "    if pos in [6, 7, 8]:\n",
    "        if (board[pos-3] == char and board[pos-6] == char) or (board[6]==board[7] and board[6]==board[8]):\n",
    "            return True\n",
    "    return False"
   ]
  },
  {
   "cell_type": "code",
   "execution_count": 5,
   "metadata": {},
   "outputs": [
    {
     "name": "stdout",
     "output_type": "stream",
     "text": [
      "Each position is numbered: \n",
      "1 | 2 | 3\n",
      "---------\n",
      "4 | 5 | 6\n",
      "---------\n",
      "7 | 8 | 9\n",
      "Choose a position from 1 to 9: 5\n",
      "o | 2 | 3\n",
      "---------\n",
      "4 | x | 6\n",
      "---------\n",
      "7 | 8 | 9\n",
      "Choose a position from 1 to 9: 7\n",
      "o | 2 | o\n",
      "---------\n",
      "4 | x | 6\n",
      "---------\n",
      "x | 8 | 9\n",
      "Choose a position from 1 to 9: 8\n",
      "o | 2 | o\n",
      "---------\n",
      "o | x | 6\n",
      "---------\n",
      "x | x | 9\n",
      "Choose a position from 1 to 9: 2\n",
      "You won!\n"
     ]
    }
   ],
   "source": [
    "print(\"Each position is numbered: \")\n",
    "show()\n",
    "flag=9\n",
    "while flag!=0:\n",
    "    i = input(\"Choose a position from 1 to 9: \")\n",
    "    try:\n",
    "        i = int(i)\n",
    "    except:\n",
    "        print(\"The input is not an integer between 1 to 9\")\n",
    "    if i<1 or i>9:\n",
    "        print(\"The position chosen is not between 1 to 9\")\n",
    "    elif board[i-1] == 'x' or board[i-1] == 'o':\n",
    "        print(\"The position chosen is occupied\")\n",
    "    else:\n",
    "        board[i-1] = 'x'\n",
    "        if check('x', i-1):\n",
    "            print(\"You won!\")\n",
    "            break\n",
    "        flag -= 1\n",
    "        while True:\n",
    "            random.seed()\n",
    "            ai = random.randint(0, 8)\n",
    "            if board[ai] != 'o' and board[ai] != 'x':\n",
    "                board[ai] = 'o'\n",
    "                if check('o', ai):\n",
    "                    print(\"You lost!\")\n",
    "                    flag=0\n",
    "                flag -= 1\n",
    "                break\n",
    "    show()"
   ]
  },
  {
   "cell_type": "code",
   "execution_count": null,
   "metadata": {},
   "outputs": [],
   "source": []
  }
 ],
 "metadata": {
  "kernelspec": {
   "display_name": "Python [conda env:Anaconda3]",
   "language": "python",
   "name": "conda-env-Anaconda3-py"
  },
  "language_info": {
   "codemirror_mode": {
    "name": "ipython",
    "version": 3
   },
   "file_extension": ".py",
   "mimetype": "text/x-python",
   "name": "python",
   "nbconvert_exporter": "python",
   "pygments_lexer": "ipython3",
   "version": "3.5.4"
  }
 },
 "nbformat": 4,
 "nbformat_minor": 2
}
