{
 "cells": [
  {
   "cell_type": "code",
   "execution_count": 1,
   "metadata": {},
   "outputs": [],
   "source": [
    "import random\n",
    "import pickle"
   ]
  },
  {
   "cell_type": "code",
   "execution_count": 2,
   "metadata": {},
   "outputs": [],
   "source": [
    "class Qlearning:\n",
    "    def __init__(self,epsilon=0.2, alpha=0.3, gamma=0.9):\n",
    "        self.epsilon=epsilon\n",
    "        self.alpha=alpha\n",
    "        self.gamma=gamma\n",
    "        self.Q = {} #Q table\n",
    "        self.last_board=None\n",
    "        self.q_last=0.0\n",
    "        self.state_action_last=None\n",
    "\n",
    "    def game_begin(self):\n",
    "        self.last_board = None\n",
    "        self.q_last = 0.0\n",
    "        self.state_action_last = None\n",
    "\n",
    "\n",
    "    def epslion_greedy(self, state, possible_moves): #esplion greedy algorithm\n",
    "        #return  action\n",
    "        self.last_board = tuple(state)\n",
    "        if(random.random() < self.epsilon):\n",
    "            move = random.choice(possible_moves) ##action\n",
    "            self.state_action_last=(self.last_board,move)\n",
    "            self.q_last=self.getQ(self.last_board,move)\n",
    "            return move\n",
    "        else: #greedy strategy\n",
    "            Q_list=[]\n",
    "            for action in possible_moves:\n",
    "                Q_list.append(self.getQ(self.last_board,action))\n",
    "            maxQ=max(Q_list)\n",
    "\n",
    "            if Q_list.count(maxQ) > 1:\n",
    "                # more than 1 best option; choose among them randomly\n",
    "                best_options = [i for i in range(len(possible_moves)) if Q_list[i] == maxQ]\n",
    "                i = random.choice(best_options)\n",
    "            else:\n",
    "                i = Q_list.index(maxQ)\n",
    "            self.state_action_last = (self.last_board, possible_moves[i])\n",
    "            self.q_last = self.getQ(self.last_board, possible_moves[i])\n",
    "            return possible_moves[i]\n",
    "\n",
    "\n",
    "    def getQ(self, state, action): #get Q states\n",
    "        if(self.Q.get((state,action))) is None:\n",
    "            self.Q[(state,action)] = 1.0\n",
    "        return self.Q.get((state,action))\n",
    "\n",
    "    def updateQ(self, reward, state, possible_moves): # update Q states using Qleanning\n",
    "        q_list=[]\n",
    "        for moves in possible_moves:\n",
    "            q_list.append(self.getQ(tuple(state), moves))\n",
    "        if q_list:\n",
    "            max_q_next = max(q_list)\n",
    "        else:\n",
    "            max_q_next=0.0\n",
    "        self.Q[self.state_action_last] = self.q_last + self.alpha * ((reward + self.gamma*max_q_next) - self.q_last)\n",
    "\n",
    "    def saveQtable(self,file_name):  #save table\n",
    "        with open(file_name, 'wb') as handle:\n",
    "            pickle.dump(self.Q, handle, protocol=pickle.HIGHEST_PROTOCOL)\n",
    "\n",
    "    def loadQtable(self,file_name): # load table\n",
    "        with open(file_name, 'rb') as handle:\n",
    "            self.Q = pickle.load(handle)\n"
   ]
  },
  {
   "cell_type": "code",
   "execution_count": null,
   "metadata": {},
   "outputs": [],
   "source": [
    "board = [i for i in range(1, 10)]"
   ]
  },
  {
   "cell_type": "code",
   "execution_count": null,
   "metadata": {},
   "outputs": [],
   "source": [
    "def show():\n",
    "    print(board[0],'|',board[1],'|',board[2])\n",
    "    print('---------')\n",
    "    print(board[3],'|',board[4],'|',board[5])\n",
    "    print('---------')\n",
    "    print(board[6],'|',board[7],'|',board[8])"
   ]
  },
  {
   "cell_type": "code",
   "execution_count": null,
   "metadata": {},
   "outputs": [],
   "source": [
    "def check(char, pos):\n",
    "    if pos == 4:\n",
    "        if (board[0] == board[8] and char == board[0]) or \\\n",
    "            (board[2] == board[6] and char == board[2]) or \\\n",
    "            (board[3] == board[5] and char == board[3]) or \\\n",
    "            (board[1] == board[7] and char == board[1]):\n",
    "            return True\n",
    "    elif pos in [2, 6]:\n",
    "        if (board[2]==board[4] and board[6]==board[4]):\n",
    "            return True\n",
    "    elif pos in [0, 8]:\n",
    "        if (board[0]==board[4] and board[8]==board[4]):\n",
    "            return True\n",
    "    if pos in [0, 1, 2]:\n",
    "        if (board[pos+3] == char and board[pos+6] == char) or (board[0]==board[1] and board[0]==board[2]):\n",
    "            return True\n",
    "    if pos in [3, 4, 5]:\n",
    "        if (board[pos-3] == char and board[pos+3] == char) or (board[3]==board[4] and board[3]==board[5]):\n",
    "            return True\n",
    "    if pos in [6, 7, 8]:\n",
    "        if (board[pos-3] == char and board[pos-6] == char) or (board[6]==board[7] and board[6]==board[8]):\n",
    "            return True\n",
    "    return False"
   ]
  },
  {
   "cell_type": "code",
   "execution_count": null,
   "metadata": {},
   "outputs": [],
   "source": [
    "def choose_random():\n",
    "    random.seed()\n",
    "    return random.randint(0, 8)"
   ]
  },
  {
   "cell_type": "code",
   "execution_count": null,
   "metadata": {},
   "outputs": [],
   "source": [
    "print(\"Each position is numbered: \")\n",
    "show()\n",
    "flag=9\n",
    "while flag!=0:\n",
    "    i = input(\"Choose a position from 1 to 9: \")\n",
    "    try:\n",
    "        i = int(i)\n",
    "    except:\n",
    "        print(\"The input is not an integer between 1 to 9\")\n",
    "    if i<1 or i>9:\n",
    "        print(\"The position chosen is not between 1 to 9\")\n",
    "    elif board[i-1] == 'x' or board[i-1] == 'o':\n",
    "        print(\"The position chosen is occupied\")\n",
    "    else:\n",
    "        board[i-1] = 'x'\n",
    "        if check('x', i-1):\n",
    "            print(\"You won!\")\n",
    "            break\n",
    "        flag -= 1\n",
    "        while True:\n",
    "            ai = choose_random()\n",
    "            if board[ai] != 'o' and board[ai] != 'x':\n",
    "                board[ai] = 'o'\n",
    "                if check('o', ai):\n",
    "                    print(\"You lost!\")\n",
    "                    flag=0\n",
    "                flag -= 1\n",
    "                break\n",
    "    show()"
   ]
  }
 ],
 "metadata": {
  "kernelspec": {
   "display_name": "Python [conda env:Anaconda3]",
   "language": "python",
   "name": "conda-env-Anaconda3-py"
  },
  "language_info": {
   "codemirror_mode": {
    "name": "ipython",
    "version": 3
   },
   "file_extension": ".py",
   "mimetype": "text/x-python",
   "name": "python",
   "nbconvert_exporter": "python",
   "pygments_lexer": "ipython3",
   "version": "3.5.4"
  }
 },
 "nbformat": 4,
 "nbformat_minor": 2
}
